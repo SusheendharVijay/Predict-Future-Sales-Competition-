{
 "cells": [
  {
   "cell_type": "code",
   "execution_count": 109,
   "metadata": {},
   "outputs": [],
   "source": [
    "import numpy as np \n",
    "import pandas as pd \n",
    "import sklearn\n",
    "import scipy.sparse\n",
    "import lightgbm as lgb\n",
    "import gc \n",
    "import matplotlib.pyplot as plt \n",
    "import warnings\n",
    "from pandas import HDFStore\n",
    "from sklearn.metrics import mean_squared_error\n",
    "import math\n",
    "import seaborn as sns\n",
    "import matplotlib.pyplot as plt\n",
    "import datetime\n",
    "from pandas import HDFStore\n",
    "\n",
    "warnings.filterwarnings('ignore')\n",
    "\n",
    "\n",
    "\n",
    "pd.set_option('display.max_rows',600)\n",
    "pd.set_option('display.max_columns',50)\n",
    "\n",
    "\n",
    "from sklearn.linear_model import LinearRegression\n",
    "from sklearn.metrics import r2_score\n",
    "from tqdm import tqdm_notebook\n",
    "\n",
    "from itertools import product "
   ]
  },
  {
   "cell_type": "code",
   "execution_count": 2,
   "metadata": {},
   "outputs": [],
   "source": [
    "def downcast_dtypes(df):\n",
    "    '''\n",
    "        Changes column types in the dataframe: \n",
    "                \n",
    "                `float64` type to `float32`\n",
    "                `int64`   type to `int32`\n",
    "    '''\n",
    "    \n",
    "    # Select columns to downcast\n",
    "    float_cols = [c for c in df if df[c].dtype == \"float64\"]\n",
    "    int_cols =   [c for c in df if df[c].dtype == \"int64\"]\n",
    "    \n",
    "    # Downcast\n",
    "    df[float_cols] = df[float_cols].astype(np.float32)\n",
    "    df[int_cols]   = df[int_cols].astype(np.int32)\n",
    "    \n",
    "    return df\n"
   ]
  },
  {
   "cell_type": "code",
   "execution_count": 3,
   "metadata": {},
   "outputs": [],
   "source": [
    "store = HDFStore('all_data.h5')\n",
    "all_data = store['all_data']\n"
   ]
  },
  {
   "cell_type": "markdown",
   "metadata": {},
   "source": [
    "### Data Cleaning and exploration\n",
    "* duplicates (done)\n",
    "* missing values (done) \n",
    "* outliers (done) \n",
    "* EDA\n",
    " * histograms and scatterplots \n"
   ]
  },
  {
   "cell_type": "markdown",
   "metadata": {},
   "source": [
    "#### Loading all the datasets "
   ]
  },
  {
   "cell_type": "code",
   "execution_count": 110,
   "metadata": {},
   "outputs": [],
   "source": [
    "data_path = 'C:/Code/Data Science Code Base/Kaggle Data/Predict_Future_Sales/'\n",
    "sales = pd.read_csv(data_path+'sales_train_v2.csv')\n",
    "shops = pd.read_csv(data_path+'shops-translated.csv')\n",
    "items = pd.read_csv(data_path+'items.csv')\n",
    "item_cats = pd.read_csv(data_path+'item_categories-translated.csv')\n",
    "test = pd.read_csv(data_path+'test.csv')\n",
    "calendar = pd.read_csv(data_path+'calendar.csv')\n",
    "usd_rub = pd.read_csv(data_path+'usd-rub.csv')"
   ]
  },
  {
   "cell_type": "markdown",
   "metadata": {},
   "source": [
    "##### Dealing with duplicates \n",
    "* Sales\n",
    "* Items \n",
    "* Shops\n",
    "* Item_categories\n",
    "\n"
   ]
  },
  {
   "cell_type": "code",
   "execution_count": 111,
   "metadata": {},
   "outputs": [],
   "source": [
    "sales.drop_duplicates(inplace=True)\n",
    "shops.drop_duplicates(inplace=True)\n",
    "items.drop_duplicates(inplace=True)\n",
    "item_cats.drop_duplicates(inplace=True)"
   ]
  },
  {
   "cell_type": "code",
   "execution_count": 112,
   "metadata": {},
   "outputs": [
    {
     "data": {
      "text/html": [
       "<div>\n",
       "<style scoped>\n",
       "    .dataframe tbody tr th:only-of-type {\n",
       "        vertical-align: middle;\n",
       "    }\n",
       "\n",
       "    .dataframe tbody tr th {\n",
       "        vertical-align: top;\n",
       "    }\n",
       "\n",
       "    .dataframe thead th {\n",
       "        text-align: right;\n",
       "    }\n",
       "</style>\n",
       "<table border=\"1\" class=\"dataframe\">\n",
       "  <thead>\n",
       "    <tr style=\"text-align: right;\">\n",
       "      <th></th>\n",
       "      <th>date</th>\n",
       "      <th>date_block_num</th>\n",
       "      <th>shop_id</th>\n",
       "      <th>item_id</th>\n",
       "      <th>item_price</th>\n",
       "      <th>item_cnt_day</th>\n",
       "    </tr>\n",
       "  </thead>\n",
       "  <tbody>\n",
       "    <tr>\n",
       "      <th>0</th>\n",
       "      <td>02.01.2013</td>\n",
       "      <td>0</td>\n",
       "      <td>59</td>\n",
       "      <td>22154</td>\n",
       "      <td>999.00</td>\n",
       "      <td>1.0</td>\n",
       "    </tr>\n",
       "    <tr>\n",
       "      <th>1</th>\n",
       "      <td>03.01.2013</td>\n",
       "      <td>0</td>\n",
       "      <td>25</td>\n",
       "      <td>2552</td>\n",
       "      <td>899.00</td>\n",
       "      <td>1.0</td>\n",
       "    </tr>\n",
       "    <tr>\n",
       "      <th>2</th>\n",
       "      <td>05.01.2013</td>\n",
       "      <td>0</td>\n",
       "      <td>25</td>\n",
       "      <td>2552</td>\n",
       "      <td>899.00</td>\n",
       "      <td>-1.0</td>\n",
       "    </tr>\n",
       "    <tr>\n",
       "      <th>3</th>\n",
       "      <td>06.01.2013</td>\n",
       "      <td>0</td>\n",
       "      <td>25</td>\n",
       "      <td>2554</td>\n",
       "      <td>1709.05</td>\n",
       "      <td>1.0</td>\n",
       "    </tr>\n",
       "    <tr>\n",
       "      <th>4</th>\n",
       "      <td>15.01.2013</td>\n",
       "      <td>0</td>\n",
       "      <td>25</td>\n",
       "      <td>2555</td>\n",
       "      <td>1099.00</td>\n",
       "      <td>1.0</td>\n",
       "    </tr>\n",
       "  </tbody>\n",
       "</table>\n",
       "</div>"
      ],
      "text/plain": [
       "         date  date_block_num  shop_id  item_id  item_price  item_cnt_day\n",
       "0  02.01.2013               0       59    22154      999.00           1.0\n",
       "1  03.01.2013               0       25     2552      899.00           1.0\n",
       "2  05.01.2013               0       25     2552      899.00          -1.0\n",
       "3  06.01.2013               0       25     2554     1709.05           1.0\n",
       "4  15.01.2013               0       25     2555     1099.00           1.0"
      ]
     },
     "execution_count": 112,
     "metadata": {},
     "output_type": "execute_result"
    }
   ],
   "source": [
    "sales.head()"
   ]
  },
  {
   "cell_type": "markdown",
   "metadata": {},
   "source": [
    "##### Missing Values\n",
    "* None have missing values \n"
   ]
  },
  {
   "cell_type": "markdown",
   "metadata": {},
   "source": [
    "##### Outliers \n",
    "* item_price \n",
    "* item_cnt_day\n"
   ]
  },
  {
   "cell_type": "code",
   "execution_count": 6,
   "metadata": {},
   "outputs": [
    {
     "data": {
      "text/plain": [
       "<matplotlib.axes._subplots.AxesSubplot at 0x13007942f28>"
      ]
     },
     "execution_count": 6,
     "metadata": {},
     "output_type": "execute_result"
    },
    {
     "data": {
      "image/png": "[encoded data removed]",
      "text/plain": [
       "<Figure size 432x288 with 1 Axes>"
      ]
     },
     "metadata": {
      "needs_background": "light"
     },
     "output_type": "display_data"
    }
   ],
   "source": [
    "sns.boxplot(sales['item_price'])"
   ]
  },
  {
   "cell_type": "code",
   "execution_count": 8,
   "metadata": {},
   "outputs": [
    {
     "data": {
      "text/plain": [
       "<matplotlib.axes._subplots.AxesSubplot at 0x1caa7b7edd8>"
      ]
     },
     "execution_count": 8,
     "metadata": {},
     "output_type": "execute_result"
    },
    {
     "data": {
      "image/png": "[encoded data removed]",
      "text/plain": [
       "<Figure size 432x288 with 1 Axes>"
      ]
     },
     "metadata": {
      "needs_background": "light"
     },
     "output_type": "display_data"
    }
   ],
   "source": [
    "sns.boxplot(sales.item_cnt_day)"
   ]
  },
  {
   "cell_type": "markdown",
   "metadata": {},
   "source": [
    "###### Removing outliers from sales "
   ]
  },
  {
   "cell_type": "code",
   "execution_count": 113,
   "metadata": {},
   "outputs": [],
   "source": [
    "sales = sales[sales.item_cnt_day<1000]\n",
    "sales = sales[sales.item_price<100000]\n",
    "sales = sales[sales.item_price>0]"
   ]
  },
  {
   "cell_type": "markdown",
   "metadata": {},
   "source": [
    "#### Exploratory Data Analysis"
   ]
  },
  {
   "cell_type": "markdown",
   "metadata": {},
   "source": [
    "The possible amount of item/shop combinations is much lower than total possible combinations "
   ]
  },
  {
   "cell_type": "code",
   "execution_count": 11,
   "metadata": {},
   "outputs": [
    {
     "data": {
      "text/plain": [
       "0.3241638386988291"
      ]
     },
     "execution_count": 11,
     "metadata": {},
     "output_type": "execute_result"
    }
   ],
   "source": [
    "sales[['item_id','shop_id']].drop_duplicates().shape[0]/(sales.item_id.nunique()*sales.shop_id.nunique())"
   ]
  },
  {
   "cell_type": "markdown",
   "metadata": {},
   "source": [
    "Test set has a higher percentage of all combinations of item-shop pairs, more evindence that it is generated by taking all pairs.\n",
    "Guess: \n",
    "* Train set generated by actual items bought in shops in the past few years. \n",
    "* Test set generated by taking all combinations of item-shop pairs. (0.7 of them in public test dataset,private mostly remaining 0.3)"
   ]
  },
  {
   "cell_type": "code",
   "execution_count": 12,
   "metadata": {},
   "outputs": [
    {
     "data": {
      "text/plain": [
       "0.7"
      ]
     },
     "execution_count": 12,
     "metadata": {},
     "output_type": "execute_result"
    }
   ],
   "source": [
    "test[['item_id','shop_id']].drop_duplicates().shape[0]/(test.item_id.nunique()*sales.shop_id.nunique())"
   ]
  },
  {
   "cell_type": "markdown",
   "metadata": {},
   "source": [
    "##### Most of the item_prices are between 0-10,000"
   ]
  },
  {
   "cell_type": "code",
   "execution_count": 11,
   "metadata": {},
   "outputs": [
    {
     "data": {
      "image/png": "[encoded data removed]",
      "text/plain": [
       "<Figure size 432x288 with 1 Axes>"
      ]
     },
     "metadata": {
      "needs_background": "light"
     },
     "output_type": "display_data"
    }
   ],
   "source": [
    "plt.hist(sales.item_price,bins=30)\n",
    "plt.show()"
   ]
  },
  {
   "cell_type": "code",
   "execution_count": 18,
   "metadata": {},
   "outputs": [
    {
     "data": {
      "text/plain": [
       "<matplotlib.axes._subplots.AxesSubplot at 0x1c200141898>"
      ]
     },
     "execution_count": 18,
     "metadata": {},
     "output_type": "execute_result"
    },
    {
     "data": {
      "image/png": "[encoded data removed]",
      "text/plain": [
       "<Figure size 432x288 with 1 Axes>"
      ]
     },
     "metadata": {
      "needs_background": "light"
     },
     "output_type": "display_data"
    }
   ],
   "source": [
    "plt.figure()\n",
    "sns.distplot(sales.item_id,hist=True)\n",
    "sns.distplot(test.item_id,hist=True,color='orange')"
   ]
  },
  {
   "cell_type": "markdown",
   "metadata": {},
   "source": [
    "There are many new items in test set (363)"
   ]
  },
  {
   "cell_type": "code",
   "execution_count": 15,
   "metadata": {},
   "outputs": [
    {
     "data": {
      "text/plain": [
       "363"
      ]
     },
     "execution_count": 15,
     "metadata": {},
     "output_type": "execute_result"
    }
   ],
   "source": [
    "len(list(set(test.item_id)-set(sales.item_id)))"
   ]
  },
  {
   "cell_type": "code",
   "execution_count": 16,
   "metadata": {},
   "outputs": [
    {
     "data": {
      "text/plain": [
       "17069"
      ]
     },
     "execution_count": 16,
     "metadata": {},
     "output_type": "execute_result"
    }
   ],
   "source": [
    "len(list(set(sales.item_id)-set(test.item_id)))"
   ]
  },
  {
   "cell_type": "markdown",
   "metadata": {},
   "source": [
    "Same shops, but new items, so many predictions will be zero in the test set, because new items. Test set generated by taking shop item pairs? Validation strategy grid of all possible combinations good, already got it but trying to understand the process.\n"
   ]
  },
  {
   "cell_type": "code",
   "execution_count": 14,
   "metadata": {},
   "outputs": [
    {
     "data": {
      "text/plain": [
       "0"
      ]
     },
     "execution_count": 14,
     "metadata": {},
     "output_type": "execute_result"
    }
   ],
   "source": [
    "len(list(set(test.shop_id)-set(sales.shop_id)))"
   ]
  },
  {
   "cell_type": "code",
   "execution_count": 27,
   "metadata": {},
   "outputs": [
    {
     "data": {
      "text/plain": [
       "(42, 5100, 214200, 214200)"
      ]
     },
     "execution_count": 27,
     "metadata": {},
     "output_type": "execute_result"
    }
   ],
   "source": [
    "test.shop_id.nunique(),test.item_id.nunique(),42*5100,test.shape[0]"
   ]
  },
  {
   "cell_type": "markdown",
   "metadata": {},
   "source": [
    "Test set structure:\n",
    "* There are 42 shops which are all present in the train dataset \n",
    "* there are 5100 items out of which 363 items are new. \n",
    "* so test is just combinations of all of these so 42 X 5100 = 21420 datapoints. \n",
    "* Public test has 70% of all combinations and private is (guess) the other 30%"
   ]
  },
  {
   "cell_type": "markdown",
   "metadata": {},
   "source": [
    "### Feature Engineering \n",
    "* Add item/shop month aggregates(done)\n",
    "* Add revenue for shops (done)\n",
    "* Add shop names and item categories(done) \n",
    "* Extract city name(done) or some info from shop names \n",
    "* Add expensive variable (cheap,mid-range,expensive)\n",
    "* Prepare Grid and merge with grouped aggregates (Validation strategy)(done)\n",
    "* Number of holidays in that month(done)\n",
    "* Add month(done)\n",
    "* Add Lag Features (done)\n",
    "* Add Trends\n",
    " * averages for the past 1,3,6,12 months \n",
    "     * shop_target\n",
    "     * item_target\n",
    "     * target\n",
    "* Mean encode all these features \n"
   ]
  },
  {
   "cell_type": "markdown",
   "metadata": {},
   "source": [
    "##### Month agregates for item-shop, item,shop"
   ]
  },
  {
   "cell_type": "code",
   "execution_count": 114,
   "metadata": {},
   "outputs": [],
   "source": [
    "index_cols = ['shop_id','item_id','date_block_num']\n",
    "\n",
    "grid=[]\n",
    "\n",
    "for block_num in sales.date_block_num.unique():\n",
    "    curr_shops = sales.loc[sales['date_block_num']==block_num,'shop_id'].unique()\n",
    "    curr_items = sales.loc[sales['date_block_num']==block_num,'item_id'].unique()\n",
    "    grid.append(np.array(list(product(*[curr_shops,curr_items,[block_num]])),dtype='int32'))\n",
    "\n",
    "grid = pd.DataFrame(np.vstack(grid),columns = index_cols,dtype=np.int32)\n",
    "\n",
    "# Grouping data to get all item/shop-month agrregates \n",
    "\n",
    "gb = sales.groupby(index_cols,as_index=False).agg({'item_cnt_day':{'target':'sum'}})\n",
    "gb.columns = [col[0] if col[-1]=='' else col[-1] for col in gb.columns.values]\n",
    "\n",
    "\n",
    "all_data = pd.merge(grid,gb,how='left',on=index_cols).fillna(0)\n",
    "\n",
    "# Now groupby data to get all shop_month agregate\n",
    "\n",
    "gb = sales.groupby(['shop_id','date_block_num'],as_index=False).agg({'item_cnt_day':{'target_shop':'sum'}})\n",
    "gb.columns = [col[0] if col[-1]=='' else col[-1] for col in gb.columns.values]\n",
    "\n",
    "all_data = pd.merge(all_data,gb,how='left',on=['shop_id','date_block_num']).fillna(0)\n",
    "\n",
    "\n",
    "\n",
    "# Now groupby data to get item_month aggregates \n",
    "\n",
    "gb = sales.groupby(['item_id','date_block_num'],as_index=False).agg({'item_cnt_day':{'target_item':'sum'}})\n",
    "gb.columns = [col[0] if col[-1]=='' else col[-1] for col in gb.columns.values]\n",
    "\n",
    "all_data = pd.merge(all_data,gb,how='left',on=['item_id','date_block_num']).fillna(0)\n",
    "\n",
    "#Downcasting to save memory 64 to 32 bit \n",
    "all_data = downcast_dtypes(all_data)\n",
    "del grid,gb\n",
    "gc.collect();\n"
   ]
  },
  {
   "cell_type": "markdown",
   "metadata": {},
   "source": [
    "## Combining Test set to all_data for feature engineering "
   ]
  },
  {
   "cell_type": "code",
   "execution_count": 119,
   "metadata": {},
   "outputs": [],
   "source": [
    "test['date_block_num'] = 34\n",
    "all_data = pd.concat([all_data,test],ignore_index=True,keys=index_cols)\n",
    "all_data.drop(['ID'],axis=1,inplace=True)\n",
    "all_data.fillna(0,inplace=True)"
   ]
  },
  {
   "cell_type": "markdown",
   "metadata": {},
   "source": [
    "### Adding revenue "
   ]
  },
  {
   "cell_type": "code",
   "execution_count": 17,
   "metadata": {},
   "outputs": [],
   "source": [
    "#all_data = pd.merge(all_data,sales[['item_id','shop_id','date_block_num','item_price']],how='left',on=index_cols).fillna(0)\n",
    "#all_data['revenue_item_month'] = all_data.target_item*all_data.item_price\n",
    "#all_data.drop(['item_price'],axis=1,inplace=True)"
   ]
  },
  {
   "cell_type": "markdown",
   "metadata": {},
   "source": [
    "#### Adding lag features for 1,3,6,12 months"
   ]
  },
  {
   "cell_type": "code",
   "execution_count": 27,
   "metadata": {},
   "outputs": [
    {
     "data": {
      "text/plain": [
       "\"\\ncol_to_rename = list(all_data.columns.difference(index_cols))\\n\\nshift_range = [1,3,6,12]\\n\\nfor month_shift in tqdm_notebook(shift_range):\\n    train_shift = all_data[index_cols+col_to_rename].copy()\\n    train_shift['date_block_num'] = train_shift['date_block_num']+month_shift\\n    foo = lambda x: '{}_lag_{}'.format(x,month_shift) if x in col_to_rename else x\\n    train_shift = train_shift.rename(columns=foo) \\n    all_data = pd.merge(all_data,train_shift,how='left',on=index_cols).fillna(0)\\n\\ndel train_shift\\n\\n# Not using old data from 2013 \\nall_data = all_data[all_data['date_block_num']>=12]\\n\\nfit_cols  = [col for col in all_data.columns if col[-1] in [str(item) for item in shift_range]]\\nto_drop_cols = list(set(list(all_data.columns))-(set(fit_cols)|set(index_cols))) + ['date_block_num']\\n\\n# Map Category to items \\nitem_cat = items[['item_id','item_category_id']].drop_duplicates()\\n\\nall_data  = pd.merge(all_data,item_cat,how='left',on='item_id')\\n\\nall_data = downcast_dtypes(all_data)\\ngc.collect();\""
      ]
     },
     "execution_count": 27,
     "metadata": {},
     "output_type": "execute_result"
    }
   ],
   "source": [
    "#Creating lag features \n",
    "\n",
    "#list of columns we will use to create lag features \n",
    "\"\"\"\n",
    "col_to_rename = list(all_data.columns.difference(index_cols))\n",
    "\n",
    "shift_range = [1,3,6,12]\n",
    "\n",
    "for month_shift in tqdm_notebook(shift_range):\n",
    "    train_shift = all_data[index_cols+col_to_rename].copy()\n",
    "    train_shift['date_block_num'] = train_shift['date_block_num']+month_shift\n",
    "    foo = lambda x: '{}_lag_{}'.format(x,month_shift) if x in col_to_rename else x\n",
    "    train_shift = train_shift.rename(columns=foo) \n",
    "    all_data = pd.merge(all_data,train_shift,how='left',on=index_cols).fillna(0)\n",
    "\n",
    "del train_shift\n",
    "\n",
    "# Not using old data from 2013 \n",
    "all_data = all_data[all_data['date_block_num']>=12]\n",
    "\n",
    "fit_cols  = [col for col in all_data.columns if col[-1] in [str(item) for item in shift_range]]\n",
    "to_drop_cols = list(set(list(all_data.columns))-(set(fit_cols)|set(index_cols))) + ['date_block_num']\n",
    "\n",
    "# Map Category to items \n",
    "item_cat = items[['item_id','item_category_id']].drop_duplicates()\n",
    "\n",
    "all_data  = pd.merge(all_data,item_cat,how='left',on='item_id')\n",
    "\n",
    "all_data = downcast_dtypes(all_data)\n",
    "gc.collect();\"\"\"\n",
    "\n"
   ]
  },
  {
   "cell_type": "markdown",
   "metadata": {},
   "source": [
    "### Going to add shop names and extract information from text "
   ]
  },
  {
   "cell_type": "code",
   "execution_count": 127,
   "metadata": {},
   "outputs": [],
   "source": [
    "shop_name = shops.copy()\n",
    "shop_name['city'] = shop_name['shop_name_translated'].apply(lambda x: x.split()[0])\n",
    "shop_name.drop(['shop_name_translated'],axis=1,inplace=True)\n",
    "all_data = pd.merge(all_data,shop_name,how='left',on=['shop_id'])\n"
   ]
  },
  {
   "cell_type": "markdown",
   "metadata": {},
   "source": [
    "#### Label Encoding city "
   ]
  },
  {
   "cell_type": "code",
   "execution_count": 128,
   "metadata": {},
   "outputs": [],
   "source": [
    "from sklearn.preprocessing import LabelEncoder\n",
    "le = LabelEncoder()\n",
    "all_data.city = le.fit_transform(all_data.city)"
   ]
  },
  {
   "cell_type": "markdown",
   "metadata": {},
   "source": [
    "### Adding item_categories"
   ]
  },
  {
   "cell_type": "code",
   "execution_count": 129,
   "metadata": {},
   "outputs": [],
   "source": [
    "item_cat = items[['item_id','item_category_id']].drop_duplicates()\n",
    "all_data  = pd.merge(all_data,item_cat,how='left',on='item_id')\n",
    "all_data = downcast_dtypes(all_data)\n",
    "gc.collect();\n"
   ]
  },
  {
   "cell_type": "code",
   "execution_count": 130,
   "metadata": {},
   "outputs": [
    {
     "data": {
      "text/html": [
       "<div>\n",
       "<style scoped>\n",
       "    .dataframe tbody tr th:only-of-type {\n",
       "        vertical-align: middle;\n",
       "    }\n",
       "\n",
       "    .dataframe tbody tr th {\n",
       "        vertical-align: top;\n",
       "    }\n",
       "\n",
       "    .dataframe thead th {\n",
       "        text-align: right;\n",
       "    }\n",
       "</style>\n",
       "<table border=\"1\" class=\"dataframe\">\n",
       "  <thead>\n",
       "    <tr style=\"text-align: right;\">\n",
       "      <th></th>\n",
       "      <th>date_block_num</th>\n",
       "      <th>item_id</th>\n",
       "      <th>shop_id</th>\n",
       "      <th>target</th>\n",
       "      <th>target_item</th>\n",
       "      <th>target_shop</th>\n",
       "      <th>city</th>\n",
       "      <th>item_category_id</th>\n",
       "    </tr>\n",
       "  </thead>\n",
       "  <tbody>\n",
       "    <tr>\n",
       "      <th>0</th>\n",
       "      <td>0</td>\n",
       "      <td>22154</td>\n",
       "      <td>59</td>\n",
       "      <td>1.0</td>\n",
       "      <td>18.0</td>\n",
       "      <td>2017.0</td>\n",
       "      <td>31</td>\n",
       "      <td>37</td>\n",
       "    </tr>\n",
       "    <tr>\n",
       "      <th>1</th>\n",
       "      <td>0</td>\n",
       "      <td>2552</td>\n",
       "      <td>59</td>\n",
       "      <td>0.0</td>\n",
       "      <td>0.0</td>\n",
       "      <td>2017.0</td>\n",
       "      <td>31</td>\n",
       "      <td>58</td>\n",
       "    </tr>\n",
       "    <tr>\n",
       "      <th>2</th>\n",
       "      <td>0</td>\n",
       "      <td>2554</td>\n",
       "      <td>59</td>\n",
       "      <td>0.0</td>\n",
       "      <td>1.0</td>\n",
       "      <td>2017.0</td>\n",
       "      <td>31</td>\n",
       "      <td>58</td>\n",
       "    </tr>\n",
       "    <tr>\n",
       "      <th>3</th>\n",
       "      <td>0</td>\n",
       "      <td>2555</td>\n",
       "      <td>59</td>\n",
       "      <td>0.0</td>\n",
       "      <td>2.0</td>\n",
       "      <td>2017.0</td>\n",
       "      <td>31</td>\n",
       "      <td>56</td>\n",
       "    </tr>\n",
       "    <tr>\n",
       "      <th>4</th>\n",
       "      <td>0</td>\n",
       "      <td>2564</td>\n",
       "      <td>59</td>\n",
       "      <td>0.0</td>\n",
       "      <td>5.0</td>\n",
       "      <td>2017.0</td>\n",
       "      <td>31</td>\n",
       "      <td>59</td>\n",
       "    </tr>\n",
       "  </tbody>\n",
       "</table>\n",
       "</div>"
      ],
      "text/plain": [
       "   date_block_num  item_id  shop_id  target  target_item  target_shop  city  \\\n",
       "0               0    22154       59     1.0         18.0       2017.0    31   \n",
       "1               0     2552       59     0.0          0.0       2017.0    31   \n",
       "2               0     2554       59     0.0          1.0       2017.0    31   \n",
       "3               0     2555       59     0.0          2.0       2017.0    31   \n",
       "4               0     2564       59     0.0          5.0       2017.0    31   \n",
       "\n",
       "   item_category_id  \n",
       "0                37  \n",
       "1                58  \n",
       "2                58  \n",
       "3                56  \n",
       "4                59  "
      ]
     },
     "execution_count": 130,
     "metadata": {},
     "output_type": "execute_result"
    }
   ],
   "source": [
    "all_data.head()"
   ]
  },
  {
   "cell_type": "markdown",
   "metadata": {},
   "source": [
    "### Saving this pure dataframe before encoding and lag features "
   ]
  },
  {
   "cell_type": "code",
   "execution_count": 131,
   "metadata": {},
   "outputs": [],
   "source": [
    "pure_data = HDFStore('all_data_pure.h5')\n",
    "pure_data.put('all_data_pure',all_data,format='table',data_columns=True)"
   ]
  },
  {
   "cell_type": "markdown",
   "metadata": {},
   "source": [
    "### Mean Encoding Stuff \n"
   ]
  },
  {
   "cell_type": "markdown",
   "metadata": {},
   "source": [
    "#### Using expanding mean regularization \n",
    "* First split train/validation X_tr,X_val\n",
    "* estimate encodings of X_tr and map to X_tr and X_val\n",
    "* validate model using X_val\n",
    "* estimate encodings of train and map to train and test \n"
   ]
  },
  {
   "cell_type": "markdown",
   "metadata": {},
   "source": [
    "Testing function to encode "
   ]
  },
  {
   "cell_type": "code",
   "execution_count": 137,
   "metadata": {},
   "outputs": [],
   "source": [
    "all_data1 = all_data.copy()"
   ]
  },
  {
   "cell_type": "markdown",
   "metadata": {},
   "source": [
    "### Writing function to encode features "
   ]
  },
  {
   "cell_type": "code",
   "execution_count": 138,
   "metadata": {},
   "outputs": [],
   "source": [
    "def mean_encode_features(feature_list,df):\n",
    "    for feature in feature_list:\n",
    "        enc = df.groupby(feature).agg({'target':['mean']})\n",
    "        enc.columns = ['{}_encoded'.format('_'.join(feature))]\n",
    "        enc.reset_index(inplace=True)\n",
    "        df = pd.merge(df,enc,how='left',on=feature)\n",
    "    del enc\n",
    "    gc.collect();\n",
    "    return df\n",
    "    "
   ]
  },
  {
   "cell_type": "markdown",
   "metadata": {},
   "source": [
    "### Mean Encoding Features "
   ]
  },
  {
   "cell_type": "code",
   "execution_count": 139,
   "metadata": {},
   "outputs": [],
   "source": [
    "feature_list = [['date_block_num'],['date_block_num','shop_id'],['date_block_num','item_id'],['date_block_num','city'],\n",
    "                ['date_block_num','item_category_id'],['date_block_num','shop_id','item_category_id']]"
   ]
  },
  {
   "cell_type": "code",
   "execution_count": 140,
   "metadata": {},
   "outputs": [],
   "source": [
    "all_data1=mean_encode_features(feature_list,all_data1)"
   ]
  },
  {
   "cell_type": "code",
   "execution_count": 82,
   "metadata": {},
   "outputs": [],
   "source": [
    "\"\"\"X_train = mean_encode_features(feature_list,X_train)\n",
    "X_32 = X_train[X_train.date_block_num==32]\n",
    "X_32['date_block_num'] = 33\n",
    "enc_feat = [col for col in X_32.columns if 'encoded' in col.split('_')]\n",
    "X_32 = X_32[index_cols + enc_feat]\n",
    "X_val = pd.merge(X_val,X_32,how='left',on=index_cols).fillna(0)\"\"\""
   ]
  },
  {
   "cell_type": "markdown",
   "metadata": {},
   "source": [
    "### Saving Encoded dataset "
   ]
  },
  {
   "cell_type": "code",
   "execution_count": 150,
   "metadata": {},
   "outputs": [],
   "source": [
    "encoded_train_test = HDFStore('encoded_train_test.h5')\n",
    "encoded_train_test.put('encoded_train_test',all_data1,format='table',data_columns=True)\n"
   ]
  },
  {
   "cell_type": "markdown",
   "metadata": {},
   "source": [
    "### Creating Lag features for all \n",
    "* Combining train and val to get lag features "
   ]
  },
  {
   "cell_type": "code",
   "execution_count": 83,
   "metadata": {},
   "outputs": [],
   "source": [
    "\"\"\"combine = [X_train,X_val]\n",
    "all_data2 = pd.concat(combine)\"\"\""
   ]
  },
  {
   "cell_type": "code",
   "execution_count": 146,
   "metadata": {},
   "outputs": [],
   "source": [
    "all_data2 = all_data1.copy()"
   ]
  },
  {
   "cell_type": "markdown",
   "metadata": {},
   "source": [
    "##### Defining functions to create lag features"
   ]
  },
  {
   "cell_type": "code",
   "execution_count": 147,
   "metadata": {},
   "outputs": [],
   "source": [
    "def lag_features_func(lag_features,time_range,df,non_lag_features):\n",
    "    for month_shift in tqdm_notebook(time_range):\n",
    "        shift_df = df[non_lag_features+lag_features].copy()\n",
    "        shift_df['date_block_num'] = shift_df['date_block_num'] + month_shift\n",
    "        foo = lambda x: '{}_lag_{}'.format(x,month_shift) if x in lag_features else x\n",
    "        shift_df = shift_df.rename(columns=foo)\n",
    "        df = pd.merge(df,shift_df,how='left',on=non_lag_features).fillna(0)\n",
    "    del shift_df\n",
    "    gc.collect();\n",
    "    \n",
    "    return df\n",
    "    "
   ]
  },
  {
   "cell_type": "markdown",
   "metadata": {},
   "source": [
    "Creating Lag features "
   ]
  },
  {
   "cell_type": "code",
   "execution_count": 148,
   "metadata": {},
   "outputs": [],
   "source": [
    "lag_features = [col for col in all_data1.columns if (('target' in col.split('_'))|('encoded' in col.split('_')))]\n",
    "non_lag_features = list(all_data1.columns.difference(lag_features))\n",
    "time_range = [1,2,3,6,12]\n"
   ]
  },
  {
   "cell_type": "code",
   "execution_count": 149,
   "metadata": {},
   "outputs": [
    {
     "data": {
      "application/vnd.jupyter.widget-view+json": {
       "model_id": "121d6ad566164b3691dabdda52246670",
       "version_major": 2,
       "version_minor": 0
      },
      "text/plain": [
       "HBox(children=(IntProgress(value=0, max=5), HTML(value='')))"
      ]
     },
     "metadata": {},
     "output_type": "display_data"
    },
    {
     "ename": "MemoryError",
     "evalue": "",
     "output_type": "error",
     "traceback": [
      "\u001b[1;31m---------------------------------------------------------------------------\u001b[0m",
      "\u001b[1;31mMemoryError\u001b[0m                               Traceback (most recent call last)",
      "\u001b[1;32m<ipython-input-149-24f8e112905c>\u001b[0m in \u001b[0;36m<module>\u001b[1;34m\u001b[0m\n\u001b[1;32m----> 1\u001b[1;33m \u001b[0mall_data2\u001b[0m \u001b[1;33m=\u001b[0m \u001b[0mlag_features_func\u001b[0m\u001b[1;33m(\u001b[0m\u001b[0mlag_features\u001b[0m\u001b[1;33m,\u001b[0m\u001b[0mtime_range\u001b[0m\u001b[1;33m,\u001b[0m\u001b[0mall_data2\u001b[0m\u001b[1;33m,\u001b[0m\u001b[0mnon_lag_features\u001b[0m\u001b[1;33m)\u001b[0m\u001b[1;33m\u001b[0m\u001b[1;33m\u001b[0m\u001b[0m\n\u001b[0m\u001b[0;32m      2\u001b[0m \u001b[0mall_data2\u001b[0m \u001b[1;33m=\u001b[0m \u001b[0mall_data2\u001b[0m\u001b[1;33m[\u001b[0m\u001b[0mall_data2\u001b[0m\u001b[1;33m.\u001b[0m\u001b[0mdate_block_num\u001b[0m\u001b[1;33m>=\u001b[0m\u001b[1;36m12\u001b[0m\u001b[1;33m]\u001b[0m\u001b[1;33m\u001b[0m\u001b[1;33m\u001b[0m\u001b[0m\n",
      "\u001b[1;32m<ipython-input-147-8bf4c61fb3ce>\u001b[0m in \u001b[0;36mlag_features_func\u001b[1;34m(lag_features, time_range, df, non_lag_features)\u001b[0m\n\u001b[0;32m      5\u001b[0m         \u001b[0mfoo\u001b[0m \u001b[1;33m=\u001b[0m \u001b[1;32mlambda\u001b[0m \u001b[0mx\u001b[0m\u001b[1;33m:\u001b[0m \u001b[1;34m'{}_lag_{}'\u001b[0m\u001b[1;33m.\u001b[0m\u001b[0mformat\u001b[0m\u001b[1;33m(\u001b[0m\u001b[0mx\u001b[0m\u001b[1;33m,\u001b[0m\u001b[0mmonth_shift\u001b[0m\u001b[1;33m)\u001b[0m \u001b[1;32mif\u001b[0m \u001b[0mx\u001b[0m \u001b[1;32min\u001b[0m \u001b[0mlag_features\u001b[0m \u001b[1;32melse\u001b[0m \u001b[0mx\u001b[0m\u001b[1;33m\u001b[0m\u001b[1;33m\u001b[0m\u001b[0m\n\u001b[0;32m      6\u001b[0m         \u001b[0mshift_df\u001b[0m \u001b[1;33m=\u001b[0m \u001b[0mshift_df\u001b[0m\u001b[1;33m.\u001b[0m\u001b[0mrename\u001b[0m\u001b[1;33m(\u001b[0m\u001b[0mcolumns\u001b[0m\u001b[1;33m=\u001b[0m\u001b[0mfoo\u001b[0m\u001b[1;33m)\u001b[0m\u001b[1;33m\u001b[0m\u001b[1;33m\u001b[0m\u001b[0m\n\u001b[1;32m----> 7\u001b[1;33m         \u001b[0mdf\u001b[0m \u001b[1;33m=\u001b[0m \u001b[0mpd\u001b[0m\u001b[1;33m.\u001b[0m\u001b[0mmerge\u001b[0m\u001b[1;33m(\u001b[0m\u001b[0mdf\u001b[0m\u001b[1;33m,\u001b[0m\u001b[0mshift_df\u001b[0m\u001b[1;33m,\u001b[0m\u001b[0mhow\u001b[0m\u001b[1;33m=\u001b[0m\u001b[1;34m'left'\u001b[0m\u001b[1;33m,\u001b[0m\u001b[0mon\u001b[0m\u001b[1;33m=\u001b[0m\u001b[0mnon_lag_features\u001b[0m\u001b[1;33m)\u001b[0m\u001b[1;33m.\u001b[0m\u001b[0mfillna\u001b[0m\u001b[1;33m(\u001b[0m\u001b[1;36m0\u001b[0m\u001b[1;33m)\u001b[0m\u001b[1;33m\u001b[0m\u001b[1;33m\u001b[0m\u001b[0m\n\u001b[0m\u001b[0;32m      8\u001b[0m     \u001b[1;32mdel\u001b[0m \u001b[0mshift_df\u001b[0m\u001b[1;33m\u001b[0m\u001b[1;33m\u001b[0m\u001b[0m\n\u001b[0;32m      9\u001b[0m     \u001b[0mgc\u001b[0m\u001b[1;33m.\u001b[0m\u001b[0mcollect\u001b[0m\u001b[1;33m(\u001b[0m\u001b[1;33m)\u001b[0m\u001b[1;33m;\u001b[0m\u001b[1;33m\u001b[0m\u001b[1;33m\u001b[0m\u001b[0m\n",
      "\u001b[1;32m~\\Anaconda3\\lib\\site-packages\\pandas\\core\\frame.py\u001b[0m in \u001b[0;36mfillna\u001b[1;34m(self, value, method, axis, inplace, limit, downcast, **kwargs)\u001b[0m\n\u001b[0;32m   4032\u001b[0m                      \u001b[0mself\u001b[0m\u001b[1;33m)\u001b[0m\u001b[1;33m.\u001b[0m\u001b[0mfillna\u001b[0m\u001b[1;33m(\u001b[0m\u001b[0mvalue\u001b[0m\u001b[1;33m=\u001b[0m\u001b[0mvalue\u001b[0m\u001b[1;33m,\u001b[0m \u001b[0mmethod\u001b[0m\u001b[1;33m=\u001b[0m\u001b[0mmethod\u001b[0m\u001b[1;33m,\u001b[0m \u001b[0maxis\u001b[0m\u001b[1;33m=\u001b[0m\u001b[0maxis\u001b[0m\u001b[1;33m,\u001b[0m\u001b[1;33m\u001b[0m\u001b[1;33m\u001b[0m\u001b[0m\n\u001b[0;32m   4033\u001b[0m                                   \u001b[0minplace\u001b[0m\u001b[1;33m=\u001b[0m\u001b[0minplace\u001b[0m\u001b[1;33m,\u001b[0m \u001b[0mlimit\u001b[0m\u001b[1;33m=\u001b[0m\u001b[0mlimit\u001b[0m\u001b[1;33m,\u001b[0m\u001b[1;33m\u001b[0m\u001b[1;33m\u001b[0m\u001b[0m\n\u001b[1;32m-> 4034\u001b[1;33m                                   downcast=downcast, **kwargs)\n\u001b[0m\u001b[0;32m   4035\u001b[0m \u001b[1;33m\u001b[0m\u001b[0m\n\u001b[0;32m   4036\u001b[0m     \u001b[1;33m@\u001b[0m\u001b[0mAppender\u001b[0m\u001b[1;33m(\u001b[0m\u001b[0m_shared_docs\u001b[0m\u001b[1;33m[\u001b[0m\u001b[1;34m'replace'\u001b[0m\u001b[1;33m]\u001b[0m \u001b[1;33m%\u001b[0m \u001b[0m_shared_doc_kwargs\u001b[0m\u001b[1;33m)\u001b[0m\u001b[1;33m\u001b[0m\u001b[1;33m\u001b[0m\u001b[0m\n",
      "\u001b[1;32m~\\Anaconda3\\lib\\site-packages\\pandas\\core\\generic.py\u001b[0m in \u001b[0;36mfillna\u001b[1;34m(self, value, method, axis, inplace, limit, downcast)\u001b[0m\n\u001b[0;32m   6044\u001b[0m         \u001b[0mvalue\u001b[0m\u001b[1;33m,\u001b[0m \u001b[0mmethod\u001b[0m \u001b[1;33m=\u001b[0m \u001b[0mvalidate_fillna_kwargs\u001b[0m\u001b[1;33m(\u001b[0m\u001b[0mvalue\u001b[0m\u001b[1;33m,\u001b[0m \u001b[0mmethod\u001b[0m\u001b[1;33m)\u001b[0m\u001b[1;33m\u001b[0m\u001b[1;33m\u001b[0m\u001b[0m\n\u001b[0;32m   6045\u001b[0m \u001b[1;33m\u001b[0m\u001b[0m\n\u001b[1;32m-> 6046\u001b[1;33m         \u001b[0mself\u001b[0m\u001b[1;33m.\u001b[0m\u001b[0m_consolidate_inplace\u001b[0m\u001b[1;33m(\u001b[0m\u001b[1;33m)\u001b[0m\u001b[1;33m\u001b[0m\u001b[1;33m\u001b[0m\u001b[0m\n\u001b[0m\u001b[0;32m   6047\u001b[0m \u001b[1;33m\u001b[0m\u001b[0m\n\u001b[0;32m   6048\u001b[0m         \u001b[1;31m# set the default here, so functions examining the signaure\u001b[0m\u001b[1;33m\u001b[0m\u001b[1;33m\u001b[0m\u001b[1;33m\u001b[0m\u001b[0m\n",
      "\u001b[1;32m~\\Anaconda3\\lib\\site-packages\\pandas\\core\\generic.py\u001b[0m in \u001b[0;36m_consolidate_inplace\u001b[1;34m(self)\u001b[0m\n\u001b[0;32m   5136\u001b[0m             \u001b[0mself\u001b[0m\u001b[1;33m.\u001b[0m\u001b[0m_data\u001b[0m \u001b[1;33m=\u001b[0m \u001b[0mself\u001b[0m\u001b[1;33m.\u001b[0m\u001b[0m_data\u001b[0m\u001b[1;33m.\u001b[0m\u001b[0mconsolidate\u001b[0m\u001b[1;33m(\u001b[0m\u001b[1;33m)\u001b[0m\u001b[1;33m\u001b[0m\u001b[1;33m\u001b[0m\u001b[0m\n\u001b[0;32m   5137\u001b[0m \u001b[1;33m\u001b[0m\u001b[0m\n\u001b[1;32m-> 5138\u001b[1;33m         \u001b[0mself\u001b[0m\u001b[1;33m.\u001b[0m\u001b[0m_protect_consolidate\u001b[0m\u001b[1;33m(\u001b[0m\u001b[0mf\u001b[0m\u001b[1;33m)\u001b[0m\u001b[1;33m\u001b[0m\u001b[1;33m\u001b[0m\u001b[0m\n\u001b[0m\u001b[0;32m   5139\u001b[0m \u001b[1;33m\u001b[0m\u001b[0m\n\u001b[0;32m   5140\u001b[0m     \u001b[1;32mdef\u001b[0m \u001b[0m_consolidate\u001b[0m\u001b[1;33m(\u001b[0m\u001b[0mself\u001b[0m\u001b[1;33m,\u001b[0m \u001b[0minplace\u001b[0m\u001b[1;33m=\u001b[0m\u001b[1;32mFalse\u001b[0m\u001b[1;33m)\u001b[0m\u001b[1;33m:\u001b[0m\u001b[1;33m\u001b[0m\u001b[1;33m\u001b[0m\u001b[0m\n",
      "\u001b[1;32m~\\Anaconda3\\lib\\site-packages\\pandas\\core\\generic.py\u001b[0m in \u001b[0;36m_protect_consolidate\u001b[1;34m(self, f)\u001b[0m\n\u001b[0;32m   5125\u001b[0m         \"\"\"\n\u001b[0;32m   5126\u001b[0m         \u001b[0mblocks_before\u001b[0m \u001b[1;33m=\u001b[0m \u001b[0mlen\u001b[0m\u001b[1;33m(\u001b[0m\u001b[0mself\u001b[0m\u001b[1;33m.\u001b[0m\u001b[0m_data\u001b[0m\u001b[1;33m.\u001b[0m\u001b[0mblocks\u001b[0m\u001b[1;33m)\u001b[0m\u001b[1;33m\u001b[0m\u001b[1;33m\u001b[0m\u001b[0m\n\u001b[1;32m-> 5127\u001b[1;33m         \u001b[0mresult\u001b[0m \u001b[1;33m=\u001b[0m \u001b[0mf\u001b[0m\u001b[1;33m(\u001b[0m\u001b[1;33m)\u001b[0m\u001b[1;33m\u001b[0m\u001b[1;33m\u001b[0m\u001b[0m\n\u001b[0m\u001b[0;32m   5128\u001b[0m         \u001b[1;32mif\u001b[0m \u001b[0mlen\u001b[0m\u001b[1;33m(\u001b[0m\u001b[0mself\u001b[0m\u001b[1;33m.\u001b[0m\u001b[0m_data\u001b[0m\u001b[1;33m.\u001b[0m\u001b[0mblocks\u001b[0m\u001b[1;33m)\u001b[0m \u001b[1;33m!=\u001b[0m \u001b[0mblocks_before\u001b[0m\u001b[1;33m:\u001b[0m\u001b[1;33m\u001b[0m\u001b[1;33m\u001b[0m\u001b[0m\n\u001b[0;32m   5129\u001b[0m             \u001b[0mself\u001b[0m\u001b[1;33m.\u001b[0m\u001b[0m_clear_item_cache\u001b[0m\u001b[1;33m(\u001b[0m\u001b[1;33m)\u001b[0m\u001b[1;33m\u001b[0m\u001b[1;33m\u001b[0m\u001b[0m\n",
      "\u001b[1;32m~\\Anaconda3\\lib\\site-packages\\pandas\\core\\generic.py\u001b[0m in \u001b[0;36mf\u001b[1;34m()\u001b[0m\n\u001b[0;32m   5134\u001b[0m \u001b[1;33m\u001b[0m\u001b[0m\n\u001b[0;32m   5135\u001b[0m         \u001b[1;32mdef\u001b[0m \u001b[0mf\u001b[0m\u001b[1;33m(\u001b[0m\u001b[1;33m)\u001b[0m\u001b[1;33m:\u001b[0m\u001b[1;33m\u001b[0m\u001b[1;33m\u001b[0m\u001b[0m\n\u001b[1;32m-> 5136\u001b[1;33m             \u001b[0mself\u001b[0m\u001b[1;33m.\u001b[0m\u001b[0m_data\u001b[0m \u001b[1;33m=\u001b[0m \u001b[0mself\u001b[0m\u001b[1;33m.\u001b[0m\u001b[0m_data\u001b[0m\u001b[1;33m.\u001b[0m\u001b[0mconsolidate\u001b[0m\u001b[1;33m(\u001b[0m\u001b[1;33m)\u001b[0m\u001b[1;33m\u001b[0m\u001b[1;33m\u001b[0m\u001b[0m\n\u001b[0m\u001b[0;32m   5137\u001b[0m \u001b[1;33m\u001b[0m\u001b[0m\n\u001b[0;32m   5138\u001b[0m         \u001b[0mself\u001b[0m\u001b[1;33m.\u001b[0m\u001b[0m_protect_consolidate\u001b[0m\u001b[1;33m(\u001b[0m\u001b[0mf\u001b[0m\u001b[1;33m)\u001b[0m\u001b[1;33m\u001b[0m\u001b[1;33m\u001b[0m\u001b[0m\n",
      "\u001b[1;32m~\\Anaconda3\\lib\\site-packages\\pandas\\core\\internals\\managers.py\u001b[0m in \u001b[0;36mconsolidate\u001b[1;34m(self)\u001b[0m\n\u001b[0;32m    922\u001b[0m         \u001b[0mbm\u001b[0m \u001b[1;33m=\u001b[0m \u001b[0mself\u001b[0m\u001b[1;33m.\u001b[0m\u001b[0m__class__\u001b[0m\u001b[1;33m(\u001b[0m\u001b[0mself\u001b[0m\u001b[1;33m.\u001b[0m\u001b[0mblocks\u001b[0m\u001b[1;33m,\u001b[0m \u001b[0mself\u001b[0m\u001b[1;33m.\u001b[0m\u001b[0maxes\u001b[0m\u001b[1;33m)\u001b[0m\u001b[1;33m\u001b[0m\u001b[1;33m\u001b[0m\u001b[0m\n\u001b[0;32m    923\u001b[0m         \u001b[0mbm\u001b[0m\u001b[1;33m.\u001b[0m\u001b[0m_is_consolidated\u001b[0m \u001b[1;33m=\u001b[0m \u001b[1;32mFalse\u001b[0m\u001b[1;33m\u001b[0m\u001b[1;33m\u001b[0m\u001b[0m\n\u001b[1;32m--> 924\u001b[1;33m         \u001b[0mbm\u001b[0m\u001b[1;33m.\u001b[0m\u001b[0m_consolidate_inplace\u001b[0m\u001b[1;33m(\u001b[0m\u001b[1;33m)\u001b[0m\u001b[1;33m\u001b[0m\u001b[1;33m\u001b[0m\u001b[0m\n\u001b[0m\u001b[0;32m    925\u001b[0m         \u001b[1;32mreturn\u001b[0m \u001b[0mbm\u001b[0m\u001b[1;33m\u001b[0m\u001b[1;33m\u001b[0m\u001b[0m\n\u001b[0;32m    926\u001b[0m \u001b[1;33m\u001b[0m\u001b[0m\n",
      "\u001b[1;32m~\\Anaconda3\\lib\\site-packages\\pandas\\core\\internals\\managers.py\u001b[0m in \u001b[0;36m_consolidate_inplace\u001b[1;34m(self)\u001b[0m\n\u001b[0;32m    927\u001b[0m     \u001b[1;32mdef\u001b[0m \u001b[0m_consolidate_inplace\u001b[0m\u001b[1;33m(\u001b[0m\u001b[0mself\u001b[0m\u001b[1;33m)\u001b[0m\u001b[1;33m:\u001b[0m\u001b[1;33m\u001b[0m\u001b[1;33m\u001b[0m\u001b[0m\n\u001b[0;32m    928\u001b[0m         \u001b[1;32mif\u001b[0m \u001b[1;32mnot\u001b[0m \u001b[0mself\u001b[0m\u001b[1;33m.\u001b[0m\u001b[0mis_consolidated\u001b[0m\u001b[1;33m(\u001b[0m\u001b[1;33m)\u001b[0m\u001b[1;33m:\u001b[0m\u001b[1;33m\u001b[0m\u001b[1;33m\u001b[0m\u001b[0m\n\u001b[1;32m--> 929\u001b[1;33m             \u001b[0mself\u001b[0m\u001b[1;33m.\u001b[0m\u001b[0mblocks\u001b[0m \u001b[1;33m=\u001b[0m \u001b[0mtuple\u001b[0m\u001b[1;33m(\u001b[0m\u001b[0m_consolidate\u001b[0m\u001b[1;33m(\u001b[0m\u001b[0mself\u001b[0m\u001b[1;33m.\u001b[0m\u001b[0mblocks\u001b[0m\u001b[1;33m)\u001b[0m\u001b[1;33m)\u001b[0m\u001b[1;33m\u001b[0m\u001b[1;33m\u001b[0m\u001b[0m\n\u001b[0m\u001b[0;32m    930\u001b[0m             \u001b[0mself\u001b[0m\u001b[1;33m.\u001b[0m\u001b[0m_is_consolidated\u001b[0m \u001b[1;33m=\u001b[0m \u001b[1;32mTrue\u001b[0m\u001b[1;33m\u001b[0m\u001b[1;33m\u001b[0m\u001b[0m\n\u001b[0;32m    931\u001b[0m             \u001b[0mself\u001b[0m\u001b[1;33m.\u001b[0m\u001b[0m_known_consolidated\u001b[0m \u001b[1;33m=\u001b[0m \u001b[1;32mTrue\u001b[0m\u001b[1;33m\u001b[0m\u001b[1;33m\u001b[0m\u001b[0m\n",
      "\u001b[1;32m~\\Anaconda3\\lib\\site-packages\\pandas\\core\\internals\\managers.py\u001b[0m in \u001b[0;36m_consolidate\u001b[1;34m(blocks)\u001b[0m\n\u001b[0;32m   1897\u001b[0m     \u001b[1;32mfor\u001b[0m \u001b[1;33m(\u001b[0m\u001b[0m_can_consolidate\u001b[0m\u001b[1;33m,\u001b[0m \u001b[0mdtype\u001b[0m\u001b[1;33m)\u001b[0m\u001b[1;33m,\u001b[0m \u001b[0mgroup_blocks\u001b[0m \u001b[1;32min\u001b[0m \u001b[0mgrouper\u001b[0m\u001b[1;33m:\u001b[0m\u001b[1;33m\u001b[0m\u001b[1;33m\u001b[0m\u001b[0m\n\u001b[0;32m   1898\u001b[0m         merged_blocks = _merge_blocks(list(group_blocks), dtype=dtype,\n\u001b[1;32m-> 1899\u001b[1;33m                                       _can_consolidate=_can_consolidate)\n\u001b[0m\u001b[0;32m   1900\u001b[0m         \u001b[0mnew_blocks\u001b[0m \u001b[1;33m=\u001b[0m \u001b[0m_extend_blocks\u001b[0m\u001b[1;33m(\u001b[0m\u001b[0mmerged_blocks\u001b[0m\u001b[1;33m,\u001b[0m \u001b[0mnew_blocks\u001b[0m\u001b[1;33m)\u001b[0m\u001b[1;33m\u001b[0m\u001b[1;33m\u001b[0m\u001b[0m\n\u001b[0;32m   1901\u001b[0m     \u001b[1;32mreturn\u001b[0m \u001b[0mnew_blocks\u001b[0m\u001b[1;33m\u001b[0m\u001b[1;33m\u001b[0m\u001b[0m\n",
      "\u001b[1;32m~\\Anaconda3\\lib\\site-packages\\pandas\\core\\internals\\blocks.py\u001b[0m in \u001b[0;36m_merge_blocks\u001b[1;34m(blocks, dtype, _can_consolidate)\u001b[0m\n\u001b[0;32m   3147\u001b[0m \u001b[1;33m\u001b[0m\u001b[0m\n\u001b[0;32m   3148\u001b[0m         \u001b[0margsort\u001b[0m \u001b[1;33m=\u001b[0m \u001b[0mnp\u001b[0m\u001b[1;33m.\u001b[0m\u001b[0margsort\u001b[0m\u001b[1;33m(\u001b[0m\u001b[0mnew_mgr_locs\u001b[0m\u001b[1;33m)\u001b[0m\u001b[1;33m\u001b[0m\u001b[1;33m\u001b[0m\u001b[0m\n\u001b[1;32m-> 3149\u001b[1;33m         \u001b[0mnew_values\u001b[0m \u001b[1;33m=\u001b[0m \u001b[0mnew_values\u001b[0m\u001b[1;33m[\u001b[0m\u001b[0margsort\u001b[0m\u001b[1;33m]\u001b[0m\u001b[1;33m\u001b[0m\u001b[1;33m\u001b[0m\u001b[0m\n\u001b[0m\u001b[0;32m   3150\u001b[0m         \u001b[0mnew_mgr_locs\u001b[0m \u001b[1;33m=\u001b[0m \u001b[0mnew_mgr_locs\u001b[0m\u001b[1;33m[\u001b[0m\u001b[0margsort\u001b[0m\u001b[1;33m]\u001b[0m\u001b[1;33m\u001b[0m\u001b[1;33m\u001b[0m\u001b[0m\n\u001b[0;32m   3151\u001b[0m \u001b[1;33m\u001b[0m\u001b[0m\n",
      "\u001b[1;31mMemoryError\u001b[0m: "
     ]
    }
   ],
   "source": [
    "all_data2 = lag_features_func(lag_features,time_range,all_data2,non_lag_features)\n",
    "all_data2 = all_data2[all_data2.date_block_num>=12]"
   ]
  },
  {
   "cell_type": "markdown",
   "metadata": {},
   "source": [
    "###  Debugged problem"
   ]
  },
  {
   "cell_type": "markdown",
   "metadata": {},
   "source": [
    "* most lag features were all NaN, the mistake was creating month columns before creating lag features.\n",
    "* Since it's basically the date_block_num while merging it didn't align with previous values "
   ]
  },
  {
   "cell_type": "markdown",
   "metadata": {},
   "source": [
    "#### Adding supplementary information\n",
    "* Add Month (done)\n",
    "* Add number of holidays (national holidays)(done)\n",
    "* Add season (optional)\n"
   ]
  },
  {
   "cell_type": "code",
   "execution_count": 92,
   "metadata": {},
   "outputs": [],
   "source": [
    "calendar['month'] = calendar.date.apply(lambda x: int(x.split('-')[1]))\n",
    "gp = calendar.groupby('month').agg({'holiday':{'holidays_in_month':'sum'}})\n",
    "gp.columns = [col[0] if col[-1]=='' else col[-1] for col in gp.columns.values]\n",
    "all_data2['month'] = all_data2.date_block_num.apply(lambda block: (block%12) +1)\n",
    "all_data2 = pd.merge(all_data2,gp,how='left',on=['month'])\n",
    "del gp\n",
    "gc.collect();"
   ]
  },
  {
   "cell_type": "code",
   "execution_count": null,
   "metadata": {},
   "outputs": [],
   "source": [
    "all_data2.head()"
   ]
  },
  {
   "cell_type": "code",
   "execution_count": 96,
   "metadata": {},
   "outputs": [],
   "source": [
    "store = HDFStore('all_data_encoded_lag.h5')\n",
    "store.put('all_data_encoded_lag.h5',all_data2,format='table',data_columns=True)"
   ]
  },
  {
   "cell_type": "code",
   "execution_count": null,
   "metadata": {},
   "outputs": [],
   "source": []
  },
  {
   "cell_type": "code",
   "execution_count": null,
   "metadata": {},
   "outputs": [],
   "source": []
  },
  {
   "cell_type": "code",
   "execution_count": null,
   "metadata": {},
   "outputs": [],
   "source": []
  },
  {
   "cell_type": "code",
   "execution_count": null,
   "metadata": {},
   "outputs": [],
   "source": []
  },
  {
   "cell_type": "code",
   "execution_count": null,
   "metadata": {},
   "outputs": [],
   "source": []
  },
  {
   "cell_type": "code",
   "execution_count": null,
   "metadata": {},
   "outputs": [],
   "source": []
  },
  {
   "cell_type": "code",
   "execution_count": null,
   "metadata": {},
   "outputs": [],
   "source": []
  },
  {
   "cell_type": "code",
   "execution_count": null,
   "metadata": {},
   "outputs": [],
   "source": []
  },
  {
   "cell_type": "markdown",
   "metadata": {},
   "source": [
    "# Modelling \n",
    "* Using Lightgbm to train models \n",
    "* validation set is the last month\n"
   ]
  },
  {
   "cell_type": "markdown",
   "metadata": {},
   "source": [
    "### Stuff to do \n",
    "* Use mean_encodings of train and map to validation (done)\n",
    "* Prepare test set \n",
    "* tune model \n",
    "* Clip predictions and figure out when and how to do it "
   ]
  },
  {
   "cell_type": "code",
   "execution_count": 105,
   "metadata": {},
   "outputs": [],
   "source": [
    "dates = all_data2['date_block_num']\n",
    "last_block = dates.max()\n",
    "\n",
    "dates_train = dates[dates<last_block]\n",
    "dates_val = dates[dates==last_block]\n",
    "present_encoded = [col for col in all_data2.columns if col.split('_')[-1]=='encoded']\n",
    "X_train = all_data2.loc[dates<last_block].drop(['target','target_shop','target_item']+present_encoded,axis=1)\n",
    "X_val = all_data2.loc[dates==last_block].drop(['target','target_shop','target_item'],axis=1)\n",
    "\n",
    "y_train = all_data2.loc[dates<last_block,'target'].values\n",
    "y_val = all_data2.loc[dates==last_block,'target'].values"
   ]
  },
  {
   "cell_type": "markdown",
   "metadata": {},
   "source": [
    "### Preparing test "
   ]
  },
  {
   "cell_type": "code",
   "execution_count": 107,
   "metadata": {},
   "outputs": [],
   "source": [
    "test['date_block_num']=34"
   ]
  },
  {
   "cell_type": "code",
   "execution_count": 108,
   "metadata": {},
   "outputs": [
    {
     "data": {
      "text/html": [
       "<div>\n",
       "<style scoped>\n",
       "    .dataframe tbody tr th:only-of-type {\n",
       "        vertical-align: middle;\n",
       "    }\n",
       "\n",
       "    .dataframe tbody tr th {\n",
       "        vertical-align: top;\n",
       "    }\n",
       "\n",
       "    .dataframe thead th {\n",
       "        text-align: right;\n",
       "    }\n",
       "</style>\n",
       "<table border=\"1\" class=\"dataframe\">\n",
       "  <thead>\n",
       "    <tr style=\"text-align: right;\">\n",
       "      <th></th>\n",
       "      <th>shop_id</th>\n",
       "      <th>item_id</th>\n",
       "      <th>date_block_num</th>\n",
       "      <th>city</th>\n",
       "      <th>item_category_id</th>\n",
       "      <th>target_lag_1</th>\n",
       "      <th>target_shop_lag_1</th>\n",
       "      <th>target_item_lag_1</th>\n",
       "      <th>date_block_num_encoded_lag_1</th>\n",
       "      <th>date_block_num_shop_id_encoded_lag_1</th>\n",
       "      <th>date_block_num_item_id_encoded_lag_1</th>\n",
       "      <th>date_block_num_city_encoded_lag_1</th>\n",
       "      <th>date_block_num_item_category_id_encoded_lag_1</th>\n",
       "      <th>date_block_num_shop_id_item_category_id_encoded_lag_1</th>\n",
       "      <th>target_lag_2</th>\n",
       "      <th>target_shop_lag_2</th>\n",
       "      <th>target_item_lag_2</th>\n",
       "      <th>date_block_num_encoded_lag_2</th>\n",
       "      <th>date_block_num_shop_id_encoded_lag_2</th>\n",
       "      <th>date_block_num_item_id_encoded_lag_2</th>\n",
       "      <th>date_block_num_city_encoded_lag_2</th>\n",
       "      <th>date_block_num_item_category_id_encoded_lag_2</th>\n",
       "      <th>date_block_num_shop_id_item_category_id_encoded_lag_2</th>\n",
       "      <th>target_lag_3</th>\n",
       "      <th>target_shop_lag_3</th>\n",
       "      <th>...</th>\n",
       "      <th>date_block_num_shop_id_encoded_lag_3</th>\n",
       "      <th>date_block_num_item_id_encoded_lag_3</th>\n",
       "      <th>date_block_num_city_encoded_lag_3</th>\n",
       "      <th>date_block_num_item_category_id_encoded_lag_3</th>\n",
       "      <th>date_block_num_shop_id_item_category_id_encoded_lag_3</th>\n",
       "      <th>target_lag_6</th>\n",
       "      <th>target_shop_lag_6</th>\n",
       "      <th>target_item_lag_6</th>\n",
       "      <th>date_block_num_encoded_lag_6</th>\n",
       "      <th>date_block_num_shop_id_encoded_lag_6</th>\n",
       "      <th>date_block_num_item_id_encoded_lag_6</th>\n",
       "      <th>date_block_num_city_encoded_lag_6</th>\n",
       "      <th>date_block_num_item_category_id_encoded_lag_6</th>\n",
       "      <th>date_block_num_shop_id_item_category_id_encoded_lag_6</th>\n",
       "      <th>target_lag_12</th>\n",
       "      <th>target_shop_lag_12</th>\n",
       "      <th>target_item_lag_12</th>\n",
       "      <th>date_block_num_encoded_lag_12</th>\n",
       "      <th>date_block_num_shop_id_encoded_lag_12</th>\n",
       "      <th>date_block_num_item_id_encoded_lag_12</th>\n",
       "      <th>date_block_num_city_encoded_lag_12</th>\n",
       "      <th>date_block_num_item_category_id_encoded_lag_12</th>\n",
       "      <th>date_block_num_shop_id_item_category_id_encoded_lag_12</th>\n",
       "      <th>month</th>\n",
       "      <th>holidays_in_month</th>\n",
       "    </tr>\n",
       "  </thead>\n",
       "  <tbody>\n",
       "    <tr>\n",
       "      <th>0</th>\n",
       "      <td>54</td>\n",
       "      <td>10297</td>\n",
       "      <td>12</td>\n",
       "      <td>7</td>\n",
       "      <td>37</td>\n",
       "      <td>3.0</td>\n",
       "      <td>10055.0</td>\n",
       "      <td>42.0</td>\n",
       "      <td>0.470397</td>\n",
       "      <td>1.186711</td>\n",
       "      <td>0.913043</td>\n",
       "      <td>1.186711</td>\n",
       "      <td>0.234054</td>\n",
       "      <td>0.601081</td>\n",
       "      <td>0.0</td>\n",
       "      <td>7978.0</td>\n",
       "      <td>2.0</td>\n",
       "      <td>0.357163</td>\n",
       "      <td>0.986278</td>\n",
       "      <td>0.044444</td>\n",
       "      <td>0.986278</td>\n",
       "      <td>0.183823</td>\n",
       "      <td>0.599777</td>\n",
       "      <td>0.0</td>\n",
       "      <td>0.0</td>\n",
       "      <td>...</td>\n",
       "      <td>0.000000</td>\n",
       "      <td>0.000000</td>\n",
       "      <td>0.000000</td>\n",
       "      <td>0.000000</td>\n",
       "      <td>0.000000</td>\n",
       "      <td>0.0</td>\n",
       "      <td>0.0</td>\n",
       "      <td>0.0</td>\n",
       "      <td>0.000000</td>\n",
       "      <td>0.000000</td>\n",
       "      <td>0.000000</td>\n",
       "      <td>0.000000</td>\n",
       "      <td>0.000000</td>\n",
       "      <td>0.000000</td>\n",
       "      <td>0.0</td>\n",
       "      <td>0.0</td>\n",
       "      <td>0.0</td>\n",
       "      <td>0.0</td>\n",
       "      <td>0.0</td>\n",
       "      <td>0.0</td>\n",
       "      <td>0.0</td>\n",
       "      <td>0.0</td>\n",
       "      <td>0.0</td>\n",
       "      <td>1</td>\n",
       "      <td>19</td>\n",
       "    </tr>\n",
       "    <tr>\n",
       "      <th>1</th>\n",
       "      <td>54</td>\n",
       "      <td>10296</td>\n",
       "      <td>12</td>\n",
       "      <td>7</td>\n",
       "      <td>38</td>\n",
       "      <td>0.0</td>\n",
       "      <td>10055.0</td>\n",
       "      <td>24.0</td>\n",
       "      <td>0.470397</td>\n",
       "      <td>1.186711</td>\n",
       "      <td>0.521739</td>\n",
       "      <td>1.186711</td>\n",
       "      <td>0.243763</td>\n",
       "      <td>0.551913</td>\n",
       "      <td>0.0</td>\n",
       "      <td>0.0</td>\n",
       "      <td>0.0</td>\n",
       "      <td>0.000000</td>\n",
       "      <td>0.000000</td>\n",
       "      <td>0.000000</td>\n",
       "      <td>0.000000</td>\n",
       "      <td>0.000000</td>\n",
       "      <td>0.000000</td>\n",
       "      <td>0.0</td>\n",
       "      <td>0.0</td>\n",
       "      <td>...</td>\n",
       "      <td>0.000000</td>\n",
       "      <td>0.000000</td>\n",
       "      <td>0.000000</td>\n",
       "      <td>0.000000</td>\n",
       "      <td>0.000000</td>\n",
       "      <td>0.0</td>\n",
       "      <td>0.0</td>\n",
       "      <td>0.0</td>\n",
       "      <td>0.000000</td>\n",
       "      <td>0.000000</td>\n",
       "      <td>0.000000</td>\n",
       "      <td>0.000000</td>\n",
       "      <td>0.000000</td>\n",
       "      <td>0.000000</td>\n",
       "      <td>0.0</td>\n",
       "      <td>0.0</td>\n",
       "      <td>0.0</td>\n",
       "      <td>0.0</td>\n",
       "      <td>0.0</td>\n",
       "      <td>0.0</td>\n",
       "      <td>0.0</td>\n",
       "      <td>0.0</td>\n",
       "      <td>0.0</td>\n",
       "      <td>1</td>\n",
       "      <td>19</td>\n",
       "    </tr>\n",
       "    <tr>\n",
       "      <th>2</th>\n",
       "      <td>54</td>\n",
       "      <td>10298</td>\n",
       "      <td>12</td>\n",
       "      <td>7</td>\n",
       "      <td>40</td>\n",
       "      <td>21.0</td>\n",
       "      <td>10055.0</td>\n",
       "      <td>369.0</td>\n",
       "      <td>0.470397</td>\n",
       "      <td>1.186711</td>\n",
       "      <td>8.021739</td>\n",
       "      <td>1.186711</td>\n",
       "      <td>0.309148</td>\n",
       "      <td>0.952263</td>\n",
       "      <td>119.0</td>\n",
       "      <td>7978.0</td>\n",
       "      <td>1309.0</td>\n",
       "      <td>0.357163</td>\n",
       "      <td>0.986278</td>\n",
       "      <td>29.088888</td>\n",
       "      <td>0.986278</td>\n",
       "      <td>0.264596</td>\n",
       "      <td>0.991105</td>\n",
       "      <td>7.0</td>\n",
       "      <td>6676.0</td>\n",
       "      <td>...</td>\n",
       "      <td>0.830452</td>\n",
       "      <td>3.130435</td>\n",
       "      <td>0.830452</td>\n",
       "      <td>0.254233</td>\n",
       "      <td>0.847121</td>\n",
       "      <td>0.0</td>\n",
       "      <td>0.0</td>\n",
       "      <td>0.0</td>\n",
       "      <td>0.000000</td>\n",
       "      <td>0.000000</td>\n",
       "      <td>0.000000</td>\n",
       "      <td>0.000000</td>\n",
       "      <td>0.000000</td>\n",
       "      <td>0.000000</td>\n",
       "      <td>0.0</td>\n",
       "      <td>0.0</td>\n",
       "      <td>0.0</td>\n",
       "      <td>0.0</td>\n",
       "      <td>0.0</td>\n",
       "      <td>0.0</td>\n",
       "      <td>0.0</td>\n",
       "      <td>0.0</td>\n",
       "      <td>0.0</td>\n",
       "      <td>1</td>\n",
       "      <td>19</td>\n",
       "    </tr>\n",
       "    <tr>\n",
       "      <th>3</th>\n",
       "      <td>54</td>\n",
       "      <td>10300</td>\n",
       "      <td>12</td>\n",
       "      <td>7</td>\n",
       "      <td>37</td>\n",
       "      <td>1.0</td>\n",
       "      <td>10055.0</td>\n",
       "      <td>54.0</td>\n",
       "      <td>0.470397</td>\n",
       "      <td>1.186711</td>\n",
       "      <td>1.173913</td>\n",
       "      <td>1.186711</td>\n",
       "      <td>0.234054</td>\n",
       "      <td>0.601081</td>\n",
       "      <td>31.0</td>\n",
       "      <td>7978.0</td>\n",
       "      <td>361.0</td>\n",
       "      <td>0.357163</td>\n",
       "      <td>0.986278</td>\n",
       "      <td>8.022223</td>\n",
       "      <td>0.986278</td>\n",
       "      <td>0.183823</td>\n",
       "      <td>0.599777</td>\n",
       "      <td>0.0</td>\n",
       "      <td>6676.0</td>\n",
       "      <td>...</td>\n",
       "      <td>0.830452</td>\n",
       "      <td>1.152174</td>\n",
       "      <td>0.830452</td>\n",
       "      <td>0.171495</td>\n",
       "      <td>0.559591</td>\n",
       "      <td>0.0</td>\n",
       "      <td>0.0</td>\n",
       "      <td>0.0</td>\n",
       "      <td>0.000000</td>\n",
       "      <td>0.000000</td>\n",
       "      <td>0.000000</td>\n",
       "      <td>0.000000</td>\n",
       "      <td>0.000000</td>\n",
       "      <td>0.000000</td>\n",
       "      <td>0.0</td>\n",
       "      <td>0.0</td>\n",
       "      <td>0.0</td>\n",
       "      <td>0.0</td>\n",
       "      <td>0.0</td>\n",
       "      <td>0.0</td>\n",
       "      <td>0.0</td>\n",
       "      <td>0.0</td>\n",
       "      <td>0.0</td>\n",
       "      <td>1</td>\n",
       "      <td>19</td>\n",
       "    </tr>\n",
       "    <tr>\n",
       "      <th>4</th>\n",
       "      <td>54</td>\n",
       "      <td>10284</td>\n",
       "      <td>12</td>\n",
       "      <td>7</td>\n",
       "      <td>57</td>\n",
       "      <td>0.0</td>\n",
       "      <td>10055.0</td>\n",
       "      <td>4.0</td>\n",
       "      <td>0.470397</td>\n",
       "      <td>1.186711</td>\n",
       "      <td>0.086957</td>\n",
       "      <td>1.186711</td>\n",
       "      <td>0.138296</td>\n",
       "      <td>0.455357</td>\n",
       "      <td>0.0</td>\n",
       "      <td>7978.0</td>\n",
       "      <td>3.0</td>\n",
       "      <td>0.357163</td>\n",
       "      <td>0.986278</td>\n",
       "      <td>0.066667</td>\n",
       "      <td>0.986278</td>\n",
       "      <td>0.104563</td>\n",
       "      <td>0.388393</td>\n",
       "      <td>0.0</td>\n",
       "      <td>6676.0</td>\n",
       "      <td>...</td>\n",
       "      <td>0.830452</td>\n",
       "      <td>0.108696</td>\n",
       "      <td>0.830452</td>\n",
       "      <td>0.112876</td>\n",
       "      <td>0.408654</td>\n",
       "      <td>1.0</td>\n",
       "      <td>7225.0</td>\n",
       "      <td>9.0</td>\n",
       "      <td>0.302527</td>\n",
       "      <td>0.859607</td>\n",
       "      <td>0.195652</td>\n",
       "      <td>0.859607</td>\n",
       "      <td>0.123188</td>\n",
       "      <td>0.513726</td>\n",
       "      <td>0.0</td>\n",
       "      <td>0.0</td>\n",
       "      <td>0.0</td>\n",
       "      <td>0.0</td>\n",
       "      <td>0.0</td>\n",
       "      <td>0.0</td>\n",
       "      <td>0.0</td>\n",
       "      <td>0.0</td>\n",
       "      <td>0.0</td>\n",
       "      <td>1</td>\n",
       "      <td>19</td>\n",
       "    </tr>\n",
       "  </tbody>\n",
       "</table>\n",
       "<p>5 rows × 52 columns</p>\n",
       "</div>"
      ],
      "text/plain": [
       "   shop_id  item_id  date_block_num  city  item_category_id  target_lag_1  \\\n",
       "0       54    10297              12     7                37           3.0   \n",
       "1       54    10296              12     7                38           0.0   \n",
       "2       54    10298              12     7                40          21.0   \n",
       "3       54    10300              12     7                37           1.0   \n",
       "4       54    10284              12     7                57           0.0   \n",
       "\n",
       "   target_shop_lag_1  target_item_lag_1  date_block_num_encoded_lag_1  \\\n",
       "0            10055.0               42.0                      0.470397   \n",
       "1            10055.0               24.0                      0.470397   \n",
       "2            10055.0              369.0                      0.470397   \n",
       "3            10055.0               54.0                      0.470397   \n",
       "4            10055.0                4.0                      0.470397   \n",
       "\n",
       "   date_block_num_shop_id_encoded_lag_1  date_block_num_item_id_encoded_lag_1  \\\n",
       "0                              1.186711                              0.913043   \n",
       "1                              1.186711                              0.521739   \n",
       "2                              1.186711                              8.021739   \n",
       "3                              1.186711                              1.173913   \n",
       "4                              1.186711                              0.086957   \n",
       "\n",
       "   date_block_num_city_encoded_lag_1  \\\n",
       "0                           1.186711   \n",
       "1                           1.186711   \n",
       "2                           1.186711   \n",
       "3                           1.186711   \n",
       "4                           1.186711   \n",
       "\n",
       "   date_block_num_item_category_id_encoded_lag_1  \\\n",
       "0                                       0.234054   \n",
       "1                                       0.243763   \n",
       "2                                       0.309148   \n",
       "3                                       0.234054   \n",
       "4                                       0.138296   \n",
       "\n",
       "   date_block_num_shop_id_item_category_id_encoded_lag_1  target_lag_2  \\\n",
       "0                                           0.601081               0.0   \n",
       "1                                           0.551913               0.0   \n",
       "2                                           0.952263             119.0   \n",
       "3                                           0.601081              31.0   \n",
       "4                                           0.455357               0.0   \n",
       "\n",
       "   target_shop_lag_2  target_item_lag_2  date_block_num_encoded_lag_2  \\\n",
       "0             7978.0                2.0                      0.357163   \n",
       "1                0.0                0.0                      0.000000   \n",
       "2             7978.0             1309.0                      0.357163   \n",
       "3             7978.0              361.0                      0.357163   \n",
       "4             7978.0                3.0                      0.357163   \n",
       "\n",
       "   date_block_num_shop_id_encoded_lag_2  date_block_num_item_id_encoded_lag_2  \\\n",
       "0                              0.986278                              0.044444   \n",
       "1                              0.000000                              0.000000   \n",
       "2                              0.986278                             29.088888   \n",
       "3                              0.986278                              8.022223   \n",
       "4                              0.986278                              0.066667   \n",
       "\n",
       "   date_block_num_city_encoded_lag_2  \\\n",
       "0                           0.986278   \n",
       "1                           0.000000   \n",
       "2                           0.986278   \n",
       "3                           0.986278   \n",
       "4                           0.986278   \n",
       "\n",
       "   date_block_num_item_category_id_encoded_lag_2  \\\n",
       "0                                       0.183823   \n",
       "1                                       0.000000   \n",
       "2                                       0.264596   \n",
       "3                                       0.183823   \n",
       "4                                       0.104563   \n",
       "\n",
       "   date_block_num_shop_id_item_category_id_encoded_lag_2  target_lag_3  \\\n",
       "0                                           0.599777               0.0   \n",
       "1                                           0.000000               0.0   \n",
       "2                                           0.991105               7.0   \n",
       "3                                           0.599777               0.0   \n",
       "4                                           0.388393               0.0   \n",
       "\n",
       "   target_shop_lag_3  ...  date_block_num_shop_id_encoded_lag_3  \\\n",
       "0                0.0  ...                              0.000000   \n",
       "1                0.0  ...                              0.000000   \n",
       "2             6676.0  ...                              0.830452   \n",
       "3             6676.0  ...                              0.830452   \n",
       "4             6676.0  ...                              0.830452   \n",
       "\n",
       "   date_block_num_item_id_encoded_lag_3  date_block_num_city_encoded_lag_3  \\\n",
       "0                              0.000000                           0.000000   \n",
       "1                              0.000000                           0.000000   \n",
       "2                              3.130435                           0.830452   \n",
       "3                              1.152174                           0.830452   \n",
       "4                              0.108696                           0.830452   \n",
       "\n",
       "   date_block_num_item_category_id_encoded_lag_3  \\\n",
       "0                                       0.000000   \n",
       "1                                       0.000000   \n",
       "2                                       0.254233   \n",
       "3                                       0.171495   \n",
       "4                                       0.112876   \n",
       "\n",
       "   date_block_num_shop_id_item_category_id_encoded_lag_3  target_lag_6  \\\n",
       "0                                           0.000000               0.0   \n",
       "1                                           0.000000               0.0   \n",
       "2                                           0.847121               0.0   \n",
       "3                                           0.559591               0.0   \n",
       "4                                           0.408654               1.0   \n",
       "\n",
       "   target_shop_lag_6  target_item_lag_6  date_block_num_encoded_lag_6  \\\n",
       "0                0.0                0.0                      0.000000   \n",
       "1                0.0                0.0                      0.000000   \n",
       "2                0.0                0.0                      0.000000   \n",
       "3                0.0                0.0                      0.000000   \n",
       "4             7225.0                9.0                      0.302527   \n",
       "\n",
       "   date_block_num_shop_id_encoded_lag_6  date_block_num_item_id_encoded_lag_6  \\\n",
       "0                              0.000000                              0.000000   \n",
       "1                              0.000000                              0.000000   \n",
       "2                              0.000000                              0.000000   \n",
       "3                              0.000000                              0.000000   \n",
       "4                              0.859607                              0.195652   \n",
       "\n",
       "   date_block_num_city_encoded_lag_6  \\\n",
       "0                           0.000000   \n",
       "1                           0.000000   \n",
       "2                           0.000000   \n",
       "3                           0.000000   \n",
       "4                           0.859607   \n",
       "\n",
       "   date_block_num_item_category_id_encoded_lag_6  \\\n",
       "0                                       0.000000   \n",
       "1                                       0.000000   \n",
       "2                                       0.000000   \n",
       "3                                       0.000000   \n",
       "4                                       0.123188   \n",
       "\n",
       "   date_block_num_shop_id_item_category_id_encoded_lag_6  target_lag_12  \\\n",
       "0                                           0.000000                0.0   \n",
       "1                                           0.000000                0.0   \n",
       "2                                           0.000000                0.0   \n",
       "3                                           0.000000                0.0   \n",
       "4                                           0.513726                0.0   \n",
       "\n",
       "   target_shop_lag_12  target_item_lag_12  date_block_num_encoded_lag_12  \\\n",
       "0                 0.0                 0.0                            0.0   \n",
       "1                 0.0                 0.0                            0.0   \n",
       "2                 0.0                 0.0                            0.0   \n",
       "3                 0.0                 0.0                            0.0   \n",
       "4                 0.0                 0.0                            0.0   \n",
       "\n",
       "   date_block_num_shop_id_encoded_lag_12  \\\n",
       "0                                    0.0   \n",
       "1                                    0.0   \n",
       "2                                    0.0   \n",
       "3                                    0.0   \n",
       "4                                    0.0   \n",
       "\n",
       "   date_block_num_item_id_encoded_lag_12  date_block_num_city_encoded_lag_12  \\\n",
       "0                                    0.0                                 0.0   \n",
       "1                                    0.0                                 0.0   \n",
       "2                                    0.0                                 0.0   \n",
       "3                                    0.0                                 0.0   \n",
       "4                                    0.0                                 0.0   \n",
       "\n",
       "   date_block_num_item_category_id_encoded_lag_12  \\\n",
       "0                                             0.0   \n",
       "1                                             0.0   \n",
       "2                                             0.0   \n",
       "3                                             0.0   \n",
       "4                                             0.0   \n",
       "\n",
       "   date_block_num_shop_id_item_category_id_encoded_lag_12  month  \\\n",
       "0                                                0.0           1   \n",
       "1                                                0.0           1   \n",
       "2                                                0.0           1   \n",
       "3                                                0.0           1   \n",
       "4                                                0.0           1   \n",
       "\n",
       "   holidays_in_month  \n",
       "0                 19  \n",
       "1                 19  \n",
       "2                 19  \n",
       "3                 19  \n",
       "4                 19  \n",
       "\n",
       "[5 rows x 52 columns]"
      ]
     },
     "execution_count": 108,
     "metadata": {},
     "output_type": "execute_result"
    }
   ],
   "source": [
    "X_train.head()"
   ]
  },
  {
   "cell_type": "code",
   "execution_count": null,
   "metadata": {},
   "outputs": [],
   "source": []
  },
  {
   "cell_type": "code",
   "execution_count": 43,
   "metadata": {},
   "outputs": [
    {
     "name": "stdout",
     "output_type": "stream",
     "text": [
      "Validation Rmse for LightGBM is 1.504901\n",
      "Validation R-squared for LightGBM is 0.688375\n",
      "Train Rmse for LightGBM is 1.378761\n",
      "Train R-squared for LightGBM is 0.845588\n"
     ]
    }
   ],
   "source": [
    "lgb_params = {\n",
    "                'feature_fraction':0.75,\n",
    "                'metric':'rmse',\n",
    "                'nthread':3,\n",
    "                'min_data_in_leaf':2**7,\n",
    "                'bagging_fraction':0.75,\n",
    "                'learning_rate':0.25,\n",
    "                'objective':'mse',\n",
    "                'bagging_seed':2**7,\n",
    "                'max_depth':20,\n",
    "                'num_leaves':2**9,\n",
    "                'bagging_freq':1,\n",
    "                'verbose':0\n",
    "            }\n",
    "\n",
    "model = lgb.train(lgb_params,lgb.Dataset(X_train,label=y_train),num_boost_round=200)\n",
    "pred_lgb_val = model.predict(X_val)\n",
    "pred_lgb_tr = model.predict(X_train)\n",
    "\n",
    "\n",
    "print('Validation Rmse for LightGBM is %f'% np.sqrt( mean_squared_error(y_val,pred_lgb_val)))\n",
    "print('Validation R-squared for LightGBM is %f'% r2_score(y_val,pred_lgb_val))\n",
    "print('Train Rmse for LightGBM is %f'% np.sqrt(mean_squared_error(y_train,pred_lgb_tr)))\n",
    "print('Train R-squared for LightGBM is %f'% r2_score(y_train,pred_lgb_tr))\n"
   ]
  },
  {
   "cell_type": "code",
   "execution_count": 42,
   "metadata": {},
   "outputs": [
    {
     "data": {
      "text/plain": [
       "33"
      ]
     },
     "execution_count": 42,
     "metadata": {},
     "output_type": "execute_result"
    }
   ],
   "source": [
    "all_data1.date_block_num.max()"
   ]
  },
  {
   "cell_type": "code",
   "execution_count": null,
   "metadata": {},
   "outputs": [],
   "source": []
  },
  {
   "cell_type": "code",
   "execution_count": null,
   "metadata": {},
   "outputs": [],
   "source": []
  },
  {
   "cell_type": "code",
   "execution_count": null,
   "metadata": {},
   "outputs": [],
   "source": []
  },
  {
   "cell_type": "code",
   "execution_count": null,
   "metadata": {},
   "outputs": [],
   "source": []
  },
  {
   "cell_type": "code",
   "execution_count": null,
   "metadata": {},
   "outputs": [],
   "source": []
  },
  {
   "cell_type": "code",
   "execution_count": null,
   "metadata": {},
   "outputs": [],
   "source": []
  },
  {
   "cell_type": "code",
   "execution_count": null,
   "metadata": {},
   "outputs": [],
   "source": []
  }
 ],
 "metadata": {
  "kernelspec": {
   "display_name": "Python 3",
   "language": "python",
   "name": "python3"
  },
  "language_info": {
   "codemirror_mode": {
    "name": "ipython",
    "version": 3
   },
   "file_extension": ".py",
   "mimetype": "text/x-python",
   "name": "python",
   "nbconvert_exporter": "python",
   "pygments_lexer": "ipython3",
   "version": "3.7.3"
  }
 },
 "nbformat": 4,
 "nbformat_minor": 2
}
